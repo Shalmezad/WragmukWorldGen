{
 "cells": [
  {
   "cell_type": "markdown",
   "id": "58752f86-6fb3-4b96-91b7-458bca2d836c",
   "metadata": {},
   "source": [
    "# Wragmuk World Gen\n",
    "\n",
    "One of the things I want for Wragmuk is an \"earth-like\" world to explore.\n",
    "Additionally, one of the key concepts behind Wragmuk is the procedural generation of it's world, interactions, etc. which leads to some very important things needed:\n",
    "\n",
    "* We need to define what \"earth-like\" means\n",
    "* Tile B should be independent of it's surroundings, in that I can procedurally determine everything in Tile B\n",
    "  * This doesn't mean Tile B can't use information from Tile A. The big issue here is limiting the # of Tile A's needed for Tile B\n",
    "  * As an example, I can do a blur filter in that a center tile C's final value depends on the \"initial\" values of the tiles around it. The initial values of the tiles around it can be computed with no additional information (just a random number for example), and thus the center tile is bounded in the information needed to generate it\n",
    "* Every tile should be deterministic. ie: the same inputs should yield the same outputs\n",
    "  * For \"random\", this means using a pre-seeded RNG, that utilizes the same seed on the same tile every time. \n",
    "\n",
    "Let's cover some basic concepts needed"
   ]
  },
  {
   "cell_type": "markdown",
   "id": "934fd112-0e37-49fb-8df1-85f776101dde",
   "metadata": {},
   "source": [
    "## Earth-like worlds\n",
    "\n",
    "Let's start with the simplest criteria, water / land ratio. Per the [USGS, Earth is about 71% water](https://www.usgs.gov/media/images/distribution-water-and-above-earth). \n",
    "\n",
    "Generating a world that comes close to this criteria is relatively simple, for each \"tile\" pick a random number in the range `[0.0, 1.0]`. If it's <= 0.71, then it is water, otherwise it's land.\n",
    "We can demonstrate this with a fairly simple test bed:"
   ]
  },
  {
   "cell_type": "code",
   "execution_count": 32,
   "id": "669a8416-2a15-469c-9366-ef8816e352a6",
   "metadata": {
    "jupyter": {
     "source_hidden": true
    }
   },
   "outputs": [],
   "source": [
    "# Prep work\n",
    "from scipy.special import binom\n",
    "import numpy as np\n",
    "import matplotlib.pyplot as plt\n",
    "import random\n",
    "from functools import reduce\n",
    "from operator import xor\n",
    "import sys\n",
    "import math"
   ]
  },
  {
   "cell_type": "code",
   "execution_count": 39,
   "id": "9ec76234-2363-45b0-b170-a4a70c0a1d04",
   "metadata": {
    "jupyter": {
     "source_hidden": true
    }
   },
   "outputs": [],
   "source": [
    "# Helper functions for deterministic RNG\n",
    "max_int = sys.maxsize\n",
    "min_int = ~sys.maxsize\n",
    "def deterministic_rng_float(seed):\n",
    "    random.seed(seed)\n",
    "    return random.random()\n",
    "\n",
    "def deterministic_rng_int(seed):\n",
    "    random.seed(seed)\n",
    "    return random.randint(min_int, max_int)\n",
    "\n",
    "\n",
    "def deterministic_rng_multi_float(seeds):\n",
    "    seed_eval = [deterministic_rng_int(seed) for seed in seeds]\n",
    "    new_seed = reduce(xor, seed_eval)\n",
    "    return deterministic_rng_float(new_seed)"
   ]
  },
  {
   "cell_type": "code",
   "execution_count": 38,
   "id": "3dd23551-1bd1-4321-9933-aec6a05907d0",
   "metadata": {
    "jupyter": {
     "source_hidden": true
    }
   },
   "outputs": [
    {
     "name": "stdout",
     "output_type": "stream",
     "text": [
      "Water/Area percentage: 72%\n"
     ]
    },
    {
     "data": {
      "image/png": "[encoded data removed]",
      "text/plain": [
       "<Figure size 640x480 with 1 Axes>"
      ]
     },
     "metadata": {},
     "output_type": "display_data"
    }
   ],
   "source": [
    "# Simple water/land gen\n",
    "image_size = 50\n",
    "pixels = np.zeros((image_size, image_size))\n",
    "cache = {}\n",
    "\n",
    "seed = 1231\n",
    "water_value = 0\n",
    "land_value = 10\n",
    "water_percentage = 0.71\n",
    "\n",
    "water_count = 0\n",
    "land_count = 0\n",
    "\n",
    "for row in range(image_size):\n",
    "    for col in range(image_size):\n",
    "        # Deterministic random:\n",
    "        roll = deterministic_rng_multi_float([deterministic_rng_int(row), col, seed])\n",
    "        if roll < water_percentage:\n",
    "            pixels[row,col] = water_value\n",
    "            water_count += 1\n",
    "        else:\n",
    "            pixels[row, col] = land_value\n",
    "            land_count += 1\n",
    "plt.imshow(pixels, origin='lower', cmap='terrain')\n",
    "# purple is 0\n",
    "\n",
    "water_percentage = (1.0 * water_count) / (water_count + land_count)\n",
    "print(f\"Water/Area percentage: {water_percentage:.0%}\")"
   ]
  },
  {
   "cell_type": "markdown",
   "id": "c2ece39c-f8c0-4fd0-aba1-0ecc94b6d194",
   "metadata": {},
   "source": [
    "As seen with the test bed, while this does fulfil the simple criteria, it is definitely not \"earth-like\". The water and land are fairly evenly distributed, whereas in Earth, we have large masses of lands called continents surrounded by large swaths of water called oceans. \n",
    "\n",
    "To achieve this, we could take advantage of functions that have smaller gradients, ie: squares close together will have similar values. An easy one used commonly in procedural generation are the trigonometric functions such as sin:"
   ]
  },
  {
   "cell_type": "code",
   "execution_count": 30,
   "id": "11fcda58-5e63-4b96-ab63-4a9c21873eeb",
   "metadata": {
    "jupyter": {
     "source_hidden": true
    }
   },
   "outputs": [
    {
     "name": "stdout",
     "output_type": "stream",
     "text": [
      "Water/Area percentage: 80%\n"
     ]
    },
    {
     "data": {
      "image/png": "[encoded data removed]",
      "text/plain": [
       "<Figure size 640x480 with 1 Axes>"
      ]
     },
     "metadata": {},
     "output_type": "display_data"
    }
   ],
   "source": [
    "# Simple landmass gen\n",
    "image_size = 50\n",
    "pixels = np.zeros((image_size, image_size))\n",
    "cache = {}\n",
    "\n",
    "water_value = 0\n",
    "land_value = 10\n",
    "water_percentage = 0.71\n",
    "\n",
    "water_count = 0\n",
    "land_count = 0\n",
    "\n",
    "for row in range(image_size):\n",
    "    for col in range(image_size):\n",
    "        val = (math.cos(row/8.7) * math.sin(col/5.3) + 1) / 2\n",
    "        if val < water_percentage:\n",
    "            pixels[row,col] = water_value\n",
    "            water_count += 1\n",
    "        else:\n",
    "            pixels[row, col] = land_value\n",
    "            land_count += 1\n",
    "plt.imshow(pixels, origin='lower', cmap='terrain')\n",
    "# purple is 0\n",
    "\n",
    "water_percentage = (1.0 * water_count) / (water_count + land_count)\n",
    "print(f\"Water/Area percentage: {water_percentage:.0%}\")"
   ]
  },
  {
   "cell_type": "markdown",
   "id": "119093ed-00fe-4f6a-b74b-cf53cab1136c",
   "metadata": {},
   "source": [
    "Of course in the process of doing this, we lost the excitement that came with having a random number generator as part of the output.\n",
    "\n",
    "While a determined developer with sufficient mathmatical background could find a way to meet the criteria already established (maintain water/area % close to 71%, ensure sufficient large land masses, utilize randomness as part of function), this quickly becomes unmanageable as the number of criteria increase, nor does it allow a good way to \"explore\" how the criteria may affect world generation, or what generation methods are interesting. \n",
    "\n",
    "As such, we're going to start exploring genetic programming as a way of accomplishing this."
   ]
  },
  {
   "cell_type": "markdown",
   "id": "ca686ec6-e8cb-492c-a5da-2eac24307c04",
   "metadata": {},
   "source": [
    "## Genetic Programming Groundwork\n",
    "\n",
    "For genetic programming to handle this, we need to lay some ground work. \n",
    "\n",
    "First, is the approach to input / output.\n",
    "\n",
    "As seen in the above examples, we've used the row, col, and a pre-determined \"seed\" as inputs. The output was simply whether a tile was water or land. \n",
    "\n",
    "To keep things simple, we'll use cartesian genetic programming, which avoids the need to mess with tree structures, as well as maintaining an upper bound on the program runtime. \n",
    "With this, we'll use 2 raw outputs: a \"land weight\" and a \"water weight\". Whichever one is higher will determine whether the input square is land or water. This reduces the need to worry if we're dealing with floats vs ints (we'll let evolution figure that out)\n",
    "\n",
    "We'll start with a single criteria as our fitness, which is \"how close to the earth-like ratio of 71% water is this worldgen function?\"\n",
    "\n",
    "We'll use a 1 + lambda approach for the search algorithm, maintaining the best parent/child, preferring a child if it's better than the parent. This method will use just mutation with no crossover. "
   ]
  },
  {
   "cell_type": "code",
   "execution_count": null,
   "id": "177187e0-acfa-41e8-8b85-689437b19759",
   "metadata": {},
   "outputs": [],
   "source": []
  }
 ],
 "metadata": {
  "kernelspec": {
   "display_name": "Python 3 (ipykernel)",
   "language": "python",
   "name": "python3"
  },
  "language_info": {
   "codemirror_mode": {
    "name": "ipython",
    "version": 3
   },
   "file_extension": ".py",
   "mimetype": "text/x-python",
   "name": "python",
   "nbconvert_exporter": "python",
   "pygments_lexer": "ipython3",
   "version": "3.11.4"
  }
 },
 "nbformat": 4,
 "nbformat_minor": 5
}
