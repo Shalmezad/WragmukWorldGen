{
 "cells": [
  {
   "cell_type": "markdown",
   "id": "58752f86-6fb3-4b96-91b7-458bca2d836c",
   "metadata": {},
   "source": [
    "# Wragmuk World Gen\n",
    "\n",
    "One of the things I want for Wragmuk is an \"earth-like\" world to explore.\n",
    "Additionally, one of the key concepts behind Wragmuk is the procedural generation of it's world, interactions, etc. which leads to some very important things needed:\n",
    "\n",
    "* We need to define what \"earth-like\" means\n",
    "* Tile B should be independent of it's surroundings, in that I can procedurally determine everything in Tile B\n",
    "  * This doesn't mean Tile B can't use information from Tile A. The big issue here is limiting the # of Tile A's needed for Tile B\n",
    "  * As an example, I can do a blur filter in that a center tile C's final value depends on the \"initial\" values of the tiles around it. The initial values of the tiles around it can be computed with no additional information (just a random number for example), and thus the center tile is bounded in the information needed to generate it\n",
    "* Every tile should be deterministic. ie: the same inputs should yield the same outputs\n",
    "  * For \"random\", this means using a pre-seeded RNG, that utilizes the same seed on the same tile every time. \n",
    "\n",
    "Let's cover some basic concepts needed"
   ]
  },
  {
   "cell_type": "markdown",
   "id": "934fd112-0e37-49fb-8df1-85f776101dde",
   "metadata": {},
   "source": [
    "## Earth-like worlds\n",
    "\n",
    "Let's start with the simplest criteria, water / land ratio. Per the [USGS, Earth is about 71% water](https://www.usgs.gov/media/images/distribution-water-and-above-earth). \n",
    "\n",
    "Generating a world that comes close to this criteria is relatively simple, for each \"tile\" pick a random number in the range `[0.0, 1.0]`. If it's <= 0.71, then it is water, otherwise it's land.\n",
    "We can demonstrate this with a fairly simple test bed:"
   ]
  },
  {
   "cell_type": "code",
   "execution_count": 33,
   "id": "669a8416-2a15-469c-9366-ef8816e352a6",
   "metadata": {},
   "outputs": [],
   "source": [
    "# Prep work\n",
    "from scipy.special import binom\n",
    "import numpy as np\n",
    "import matplotlib.pyplot as plt\n",
    "import random\n",
    "from functools import reduce\n",
    "from operator import xor\n",
    "import sys\n",
    "import math\n",
    "import time\n",
    "from progress.bar import Bar\n",
    "from tqdm.notebook import tqdm\n",
    "import copy"
   ]
  },
  {
   "cell_type": "code",
   "execution_count": 34,
   "id": "9ec76234-2363-45b0-b170-a4a70c0a1d04",
   "metadata": {},
   "outputs": [],
   "source": [
    "# Helper functions for deterministic RNG\n",
    "max_int = sys.maxsize\n",
    "min_int = ~sys.maxsize\n",
    "def deterministic_rng_float(seed):\n",
    "    random.seed(seed)\n",
    "    return random.random()\n",
    "\n",
    "def deterministic_rng_int(seed):\n",
    "    random.seed(seed)\n",
    "    return random.randint(min_int, max_int)\n",
    "\n",
    "\n",
    "def deterministic_rng_multi_float(seeds):\n",
    "    seed_eval = [deterministic_rng_int(seed) for seed in seeds]\n",
    "    new_seed = reduce(xor, seed_eval)\n",
    "    return deterministic_rng_float(new_seed)"
   ]
  },
  {
   "cell_type": "code",
   "execution_count": 35,
   "id": "3dd23551-1bd1-4321-9933-aec6a05907d0",
   "metadata": {},
   "outputs": [
    {
     "name": "stdout",
     "output_type": "stream",
     "text": [
      "Water/Area percentage: 72%\n"
     ]
    },
    {
     "data": {
      "image/png": "[encoded data removed]",
      "text/plain": [
       "<Figure size 640x480 with 1 Axes>"
      ]
     },
     "metadata": {},
     "output_type": "display_data"
    }
   ],
   "source": [
    "# Simple water/land gen\n",
    "image_size = 50\n",
    "pixels = np.zeros((image_size, image_size))\n",
    "\n",
    "seed = 1231\n",
    "water_value = 0\n",
    "land_value = 10\n",
    "water_percentage = 0.71\n",
    "\n",
    "water_count = 0\n",
    "land_count = 0\n",
    "\n",
    "for row in range(image_size):\n",
    "    for col in range(image_size):\n",
    "        # Deterministic random:\n",
    "        roll = deterministic_rng_multi_float([deterministic_rng_int(row), col, seed])\n",
    "        if roll < water_percentage:\n",
    "            pixels[row,col] = water_value\n",
    "            water_count += 1\n",
    "        else:\n",
    "            pixels[row, col] = land_value\n",
    "            land_count += 1\n",
    "plt.imshow(pixels, origin='lower', cmap='terrain')\n",
    "# purple is 0\n",
    "\n",
    "water_percentage = (1.0 * water_count) / (water_count + land_count)\n",
    "print(f\"Water/Area percentage: {water_percentage:.0%}\")"
   ]
  },
  {
   "cell_type": "markdown",
   "id": "c2ece39c-f8c0-4fd0-aba1-0ecc94b6d194",
   "metadata": {},
   "source": [
    "As seen with the test bed, while this does fulfil the simple criteria, it is definitely not \"earth-like\". The water and land are fairly evenly distributed, whereas in Earth, we have large masses of lands called continents surrounded by large swaths of water called oceans. \n",
    "\n",
    "To achieve this, we could take advantage of functions that have smaller gradients, ie: squares close together will have similar values. An easy one used commonly in procedural generation are the trigonometric functions such as sin:"
   ]
  },
  {
   "cell_type": "code",
   "execution_count": 36,
   "id": "11fcda58-5e63-4b96-ab63-4a9c21873eeb",
   "metadata": {},
   "outputs": [
    {
     "name": "stdout",
     "output_type": "stream",
     "text": [
      "Water/Area percentage: 80%\n"
     ]
    },
    {
     "data": {
      "image/png": "[encoded data removed]",
      "text/plain": [
       "<Figure size 640x480 with 1 Axes>"
      ]
     },
     "metadata": {},
     "output_type": "display_data"
    }
   ],
   "source": [
    "# Simple landmass gen\n",
    "image_size = 50\n",
    "pixels = np.zeros((image_size, image_size))\n",
    "\n",
    "water_value = 0\n",
    "land_value = 10\n",
    "water_percentage = 0.71\n",
    "\n",
    "water_count = 0\n",
    "land_count = 0\n",
    "\n",
    "for row in range(image_size):\n",
    "    for col in range(image_size):\n",
    "        val = (math.cos(row/8.7) * math.sin(col/5.3) + 1) / 2\n",
    "        if val < water_percentage:\n",
    "            pixels[row,col] = water_value\n",
    "            water_count += 1\n",
    "        else:\n",
    "            pixels[row, col] = land_value\n",
    "            land_count += 1\n",
    "plt.imshow(pixels, origin='lower', cmap='terrain')\n",
    "# purple is 0\n",
    "\n",
    "water_percentage = (1.0 * water_count) / (water_count + land_count)\n",
    "print(f\"Water/Area percentage: {water_percentage:.0%}\")"
   ]
  },
  {
   "cell_type": "markdown",
   "id": "119093ed-00fe-4f6a-b74b-cf53cab1136c",
   "metadata": {},
   "source": [
    "Of course in the process of doing this, we lost the excitement that came with having a random number generator as part of the output.\n",
    "\n",
    "While a determined developer with sufficient mathmatical background could find a way to meet the criteria already established (maintain water/area % close to 71%, ensure sufficient large land masses, utilize randomness as part of function), this quickly becomes unmanageable as the number of criteria increase, nor does it allow a good way to \"explore\" how the criteria may affect world generation, or what generation methods are interesting. \n",
    "\n",
    "As such, we're going to start exploring genetic programming as a way of accomplishing this."
   ]
  },
  {
   "cell_type": "markdown",
   "id": "ca686ec6-e8cb-492c-a5da-2eac24307c04",
   "metadata": {},
   "source": [
    "## Genetic Programming Groundwork\n",
    "\n",
    "For genetic programming to handle this, we need to lay some ground work. \n",
    "\n",
    "First, is the approach to input / output.\n",
    "\n",
    "As seen in the above examples, we've used the row, col, and a pre-determined \"seed\" as inputs. The output was simply whether a tile was water or land. \n",
    "\n",
    "To keep things simple, we'll use cartesian genetic programming, which avoids the need to mess with tree structures, as well as maintaining an upper bound on the program runtime. \n",
    "With this, we'll use 2 raw outputs: a \"land weight\" and a \"water weight\". Whichever one is higher will determine whether the input square is land or water. This reduces the need to worry if we're dealing with floats vs ints (we'll let evolution figure that out)\n",
    "\n",
    "We'll start with a single criteria as our fitness, which is \"how close to the earth-like ratio of 71% water is this worldgen function?\"\n",
    "\n",
    "We'll use a 1 + lambda approach for the search algorithm, maintaining the best parent/child, preferring a child if it's better than the parent. This method will use just mutation with no crossover. "
   ]
  },
  {
   "cell_type": "code",
   "execution_count": 37,
   "id": "c10f96d8-8f55-428d-8fb2-a80027c032e8",
   "metadata": {},
   "outputs": [],
   "source": [
    "# Prep work and helper functions\n",
    "functions = [\n",
    "    (lambda lhs, rhs: lhs + rhs),\n",
    "    (lambda lhs, rhs: lhs * rhs),\n",
    "    (lambda lhs, rhs: deterministic_rng_multi_float([lhs, rhs]))\n",
    "]\n",
    "\n",
    "random.seed(12345)\n",
    "\n",
    "lam = 4\n",
    "individuals = []\n",
    "\n",
    "input_count = 3\n",
    "middle_node_count = 50\n",
    "output_count = 2\n",
    "\n",
    "def generate_individual():\n",
    "    individual = {}\n",
    "    individual[\"middle_nodes\"] = []\n",
    "    individual[\"outputs\"] = []\n",
    "    for x in range(middle_node_count):\n",
    "        mid_node = {}\n",
    "        mid_node[\"lhs\"] = random.randrange(0, x + input_count)\n",
    "        mid_node[\"rhs\"] = random.randrange(0, x + input_count)\n",
    "        mid_node[\"function\"] = random.randrange(0, len(functions))\n",
    "        individual[\"middle_nodes\"].append(mid_node)\n",
    "    for x in range(output_count):\n",
    "        individual[\"outputs\"].append(random.randrange(0, input_count + middle_node_count))\n",
    "    return individual\n",
    "\n",
    "def get_node_value(individual, inputs, idx):\n",
    "    if idx < input_count:\n",
    "        return inputs[idx]\n",
    "    else:\n",
    "        mid_node_idx = idx - input_count\n",
    "        mid_node = individual[\"middle_nodes\"][mid_node_idx]\n",
    "        lhs = get_node_value(individual, inputs, mid_node[\"lhs\"])\n",
    "        rhs = get_node_value(individual, inputs, mid_node[\"rhs\"])\n",
    "        fun = functions[mid_node[\"function\"]]\n",
    "        return fun(lhs, rhs)\n",
    "\n",
    "def run_individual(individual, inputs):\n",
    "    return [get_node_value(individual, inputs, idx) for idx in individual[\"outputs\"]]\n",
    "\n",
    "def generate_image(individual, seed):\n",
    "    image_size = 50\n",
    "    water_count = 0\n",
    "    land_count = 0\n",
    "    for row in range(image_size):\n",
    "        for col in range(image_size):\n",
    "            inputs = [row, col, seed]\n",
    "            outputs = run_individual(individual, inputs)\n",
    "            val = (math.cos(row/8.7) * math.sin(col/5.3) + 1) / 2\n",
    "            if outputs[0] > outputs[1]:\n",
    "                water_count += 1\n",
    "            else:\n",
    "                land_count += 1\n",
    "    water_percentage = (1.0 * water_count) / (water_count + land_count)\n",
    "    return water_percentage\n",
    "\n",
    "def calculate_fitness(individual, seed):\n",
    "    water_percent = generate_image(individual, seed)\n",
    "    # How close are we to the target of 0.71?\n",
    "    # There's probably better fitness functions, but this one is one of my favorites:\n",
    "    fitness = 1 - abs(math.tanh(water_percent - 0.71))\n",
    "    return fitness\n",
    "\n",
    "def mutate_individual(individual, mutation_rate = 0.1):\n",
    "    for x in range(middle_node_count):\n",
    "        middle_node = individual['middle_nodes'][x]\n",
    "        if random.random() < mutation_rate:\n",
    "            middle_node['lhs'] = random.randrange(0, x + input_count)\n",
    "        if random.random() < mutation_rate:\n",
    "            middle_node['rhs'] = random.randrange(0, x + input_count)\n",
    "        if random.random() < mutation_rate:\n",
    "            middle_node[\"function\"] = random.randrange(0, len(functions))\n",
    "    for x in range(output_count):\n",
    "        if random.random() < mutation_rate:\n",
    "            individual[\"outputs\"][x] = random.randrange(0, input_count + middle_node_count)"
   ]
  },
  {
   "cell_type": "code",
   "execution_count": 38,
   "id": "177187e0-acfa-41e8-8b85-689437b19759",
   "metadata": {},
   "outputs": [
    {
     "data": {
      "application/vnd.jupyter.widget-view+json": {
       "model_id": "fae35a12311549b9a34c52f9b905cce1",
       "version_major": 2,
       "version_minor": 0
      },
      "text/plain": [
       "  0%|          | 0/10 [00:00<?, ?it/s]"
      ]
     },
     "metadata": {},
     "output_type": "display_data"
    },
    {
     "name": "stdout",
     "output_type": "stream",
     "text": [
      "Parent fitness: 96%\n"
     ]
    }
   ],
   "source": [
    "# GP Run\n",
    "random.seed(12345)\n",
    "\n",
    "max_gens = 10\n",
    "solution_threshold = 0.9\n",
    "lamb = 4\n",
    "\n",
    "# Generate individuals\n",
    "for x in range(1 + lam):\n",
    "    individuals.append(generate_individual())\n",
    "\n",
    "# Select the fittest, which becomes the parent:\n",
    "seed = random.randint(0, max_int)\n",
    "fitnesses = [calculate_fitness(individual, seed) for individual in individuals]\n",
    "max_fit_idx = max(range(len(fitnesses)), key=fitnesses.__getitem__)\n",
    "parent = individuals[max_fit_idx]\n",
    "parent_fitness = fitnesses[max_fit_idx]\n",
    "\n",
    "parent_fitnesses = []\n",
    "\n",
    "# Until we haven't found a solution or we haven't hit the gen limit:\n",
    "for generation in tqdm(range(max_gens)):\n",
    "    parent_fitnesses.append(parent_fitness)\n",
    "    if parent_fitness > solution_threshold:\n",
    "        break\n",
    "    # Mutate parent to generate offspring\n",
    "    children = []\n",
    "    for _ in range(lamb):\n",
    "        child = copy.deepcopy(parent)\n",
    "        mutate_individual(child)\n",
    "        children.append(child)\n",
    "    seed = random.randint(0, max_int)\n",
    "    parent_fitness = calculate_fitness(parent, seed)\n",
    "    # Measure the children, if *ANY* of them beat or match the parent, keep them:\n",
    "    for child in children:\n",
    "        child_fitness = calculate_fitness(child, seed)\n",
    "        if child_fitness >= parent_fitness:\n",
    "            parent = child\n",
    "            parent_fitness = child_fitness\n",
    "\n",
    "print(f\"Parent fitness: {parent_fitness:.0%}\")"
   ]
  },
  {
   "cell_type": "code",
   "execution_count": 39,
   "id": "d43a25d3-d9df-49be-982c-a9b76632ac4c",
   "metadata": {},
   "outputs": [
    {
     "data": {
      "image/png": "[encoded data removed]",
      "text/plain": [
       "<Figure size 640x480 with 1 Axes>"
      ]
     },
     "metadata": {},
     "output_type": "display_data"
    }
   ],
   "source": [
    "plt.plot(parent_fitnesses)\n",
    "plt.xlabel('Generation')\n",
    "plt.ylabel('Parent Fitness (more = better)')\n",
    "plt.show()"
   ]
  },
  {
   "cell_type": "code",
   "execution_count": 40,
   "id": "1cc58cb2-e29c-48b4-a2d2-ddab8efc3bfb",
   "metadata": {},
   "outputs": [
    {
     "data": {
      "text/plain": [
       "<matplotlib.image.AxesImage at 0x75606e1f7b90>"
      ]
     },
     "execution_count": 40,
     "metadata": {},
     "output_type": "execute_result"
    },
    {
     "data": {
      "image/png": "[encoded data removed]",
      "text/plain": [
       "<Figure size 640x480 with 1 Axes>"
      ]
     },
     "metadata": {},
     "output_type": "display_data"
    }
   ],
   "source": [
    "def generate_image_actual(individual, seed):\n",
    "    image_size = 50\n",
    "    pixels = np.zeros((image_size, image_size))\n",
    "    image_size = 50\n",
    "    water_count = 0\n",
    "    land_count = 0\n",
    "    for row in range(image_size):\n",
    "        for col in range(image_size):\n",
    "            inputs = [row, col, seed]\n",
    "            outputs = run_individual(individual, inputs)\n",
    "            val = (math.cos(row/8.7) * math.sin(col/5.3) + 1) / 2\n",
    "            if outputs[0] > outputs[1]:\n",
    "                pixels[row,col] = water_value\n",
    "                water_count += 1\n",
    "            else:\n",
    "                pixels[row,col] = land_value\n",
    "                land_count += 1\n",
    "    return pixels\n",
    "\n",
    "px = generate_image_actual(parent, seed)\n",
    "plt.imshow(px, origin='lower', cmap='terrain')"
   ]
  },
  {
   "cell_type": "code",
   "execution_count": 41,
   "id": "94716851-0f90-4383-9864-ecfbe14844c3",
   "metadata": {},
   "outputs": [
    {
     "name": "stdout",
     "output_type": "stream",
     "text": [
      "Water/Area percentage: 75%\n"
     ]
    }
   ],
   "source": [
    "water_percentage = generate_image(parent, seed)\n",
    "print(f\"Water/Area percentage: {water_percentage:.0%}\")"
   ]
  },
  {
   "cell_type": "markdown",
   "id": "03f83f83-14b7-40f0-93fd-711ca22fbdfb",
   "metadata": {},
   "source": [
    "With this, there's a couple things noticed:\n",
    "\n",
    "* The runs are hit or miss. This is because none of the hyper-parameters have been tuned, nor am I doing sufficiently long runs\n",
    "  * While this is doable right now, see issue #3\n",
    "* While this gets us in the ball park water % we want, it currently does not give us other criteria such as # of continents, islands, oceans, etc.\n",
    "  * For this, we'll probably want to set up test cases and use something like lexicase selection\n",
    "* The calculation is being done on a per-pixel basis, which while doable for a 50x50 world, will not scale up as we look at larger worlds\n",
    "\n",
    "To demonstrate the last point, let's consider a Wragmuk world and the scale we're playing with. Wragmuk is designed to work on a tabletop RPG esque scale of 5' per unit square. \n",
    "Earth has a surface area of 196.9 million mi^2. Converting that down:"
   ]
  },
  {
   "cell_type": "code",
   "execution_count": 43,
   "id": "72be3ad4-a667-4bd6-89f4-f52b0cd77e0b",
   "metadata": {},
   "outputs": [
    {
     "name": "stdout",
     "output_type": "stream",
     "text": [
      "Earth in Wragmuk would be 14817903.981332853x14817903.981332853 units\n"
     ]
    }
   ],
   "source": [
    "earth_surface_area_mi_2 = 196900000\n",
    "# Assume earth's surface is a flat square:\n",
    "earth_surface_area_side_mi = math.sqrt(earth_surface_area_mi_2)\n",
    "earth_surface_area_side_ft = earth_surface_area_side_mi * 5280\n",
    "earth_surface_area_side_wragmuk_units = earth_surface_area_side_ft / 5\n",
    "print(f\"Earth in Wragmuk would be {earth_surface_area_side_wragmuk_units}x{earth_surface_area_side_wragmuk_units} units\")"
   ]
  },
  {
   "cell_type": "markdown",
   "id": "b49fefa4-0a33-416e-8d0f-2e69711b09c1",
   "metadata": {},
   "source": [
    "So about 14.8 million tiles by 14.8 million tiles.\n",
    "We're currently generating 50x50 tiles, which is 250' x 250' = 62500 sq ft, or 1.4 acres. We aren't even looking at a [large enough surface to be on a list of lakes right now](https://en.wikipedia.org/wiki/List_of_lakes_of_Michigan), let alone geological scales. \n",
    "\n",
    "Which then leads to the question, what would be a sufficient size to test to ensure a program for world generation is generating as expected?\n",
    "Or, is there a way we can cheat by taking advantage of the fact that a 5'x5' tile isn't noticable in a multi-million mile surface of an ocean?\n",
    "Maybe, we have different formulas for macro tiles, and generate micro formations within them?\n",
    "\n",
    "Let's take a look at what that would look like"
   ]
  },
  {
   "cell_type": "code",
   "execution_count": null,
   "id": "e6176c5c-ce6a-4919-b009-abee08d50928",
   "metadata": {},
   "outputs": [],
   "source": []
  }
 ],
 "metadata": {
  "kernelspec": {
   "display_name": "Python 3 (ipykernel)",
   "language": "python",
   "name": "python3"
  },
  "language_info": {
   "codemirror_mode": {
    "name": "ipython",
    "version": 3
   },
   "file_extension": ".py",
   "mimetype": "text/x-python",
   "name": "python",
   "nbconvert_exporter": "python",
   "pygments_lexer": "ipython3",
   "version": "3.11.4"
  }
 },
 "nbformat": 4,
 "nbformat_minor": 5
}
